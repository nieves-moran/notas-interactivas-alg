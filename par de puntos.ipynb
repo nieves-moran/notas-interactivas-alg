{
 "cells": [
  {
   "cell_type": "code",
   "execution_count": 12,
   "id": "d10dc1be",
   "metadata": {},
   "outputs": [
    {
     "data": {
      "text/plain": [
       "((2, 2), (3, 2))"
      ]
     },
     "execution_count": 12,
     "metadata": {},
     "output_type": "execute_result"
    }
   ],
   "source": [
    "import math\n",
    "\n",
    "def closest_points(P):\n",
    "    Px = [p for p in P]\n",
    "    Px.sort(key = by_x)\n",
    "    Py = [p for p in P]\n",
    "    Py.sort(key = by_y)\n",
    "    return closest_rec(Px,Py) \n",
    "\n",
    "def dist(p1,p2): \n",
    "    (x,y) = p1\n",
    "    (u,v) = p2\n",
    "    return math.sqrt((x - u)**2 + (y - v)**2)\n",
    "\n",
    "def by_x(elem):\n",
    "    return elem[0]\n",
    "def by_y(elem):\n",
    "    return elem[1]\n",
    "def maxim_x(Qx): \n",
    "    maxim = Qx[0][0]\n",
    "    for i in range(1,len(Qx)): \n",
    "        maxim = max(maxim,Qx[i][0])\n",
    "    return maxim \n",
    "def build_Sy(xstar,Py,delta):\n",
    "    S = [] \n",
    "    for (x,y) in Py: \n",
    "        if(dist((x,y),(xstar,y)) <= delta): \n",
    "            S.append((x,y))\n",
    "    return S\n",
    "\n",
    "def caso_base(Px): \n",
    "    if(len(Px) == 2): \n",
    "        return (Px[0],Px[1])\n",
    "    if(len(Px) == 3): \n",
    "        x,y = Px[0]\n",
    "        u,v = Px[1]\n",
    "        l,m = Px[2]\n",
    "        d1 = dist((x,y),(u,v))\n",
    "        d2 = dist((u,v),(l,m))\n",
    "        d3 = dist((x,y),(l,m))\n",
    "        dm = min(d1,d2,d3)\n",
    "        if(dm == d1): \n",
    "            return ((x,y),(u,v))\n",
    "        elif(dm == d2): \n",
    "            return ((u,v),(l,m))\n",
    "        else: \n",
    "            return ((x,y),(l,m)) \n",
    "def closest_rec(Px,Py): \n",
    "    #caso base \n",
    "    if(len(Px) <= 3): \n",
    "        return caso_base(Px)\n",
    "    Qx = [Px[i] for i in range(0,len(Px)//2)]\n",
    "    Qy = [Py[i] for i in range(0,len(Py)//2)] \n",
    "    Rx =  [Px[i] for i in range(len(Px)//2,len(Px))]  \n",
    "    Ry =  [Py[i] for i in range(len(Py)//2,len(Py))] \n",
    "    r1,r2 = closest_rec(Qx,Qy)\n",
    "    q1,q2 = closest_rec(Rx,Ry)\n",
    "    d1 = dist(r1,r2)\n",
    "    d2 = dist(q1,q2)\n",
    "    delta = min(d1,d2)\n",
    "    xstar = maxim_x(Qx)\n",
    "    Sy = build_Sy(xstar,Py,delta) \n",
    "    #aquí, tenemos que hacer otra cosa \n",
    "    distSy = float('inf') \n",
    "    sl = []\n",
    "    for i in range(0,len(Sy)): \n",
    "        for j  in range(1,16):\n",
    "            if(i + j < len(Sy)): \n",
    "                if(dist(Sy[i],Sy[i+j]) < distSy):  \n",
    "                    s1 = Sy[i]\n",
    "                    s2 = Sy[i+j]\n",
    "                    sl = [s1,s2]\n",
    "                    distSy = dist(s1,s2)\n",
    "    if(distSy <= delta): \n",
    "        return (sl[0],sl[1])\n",
    "    elif(dist(r1,r2) < dist(q1,q2)):\n",
    "        return (r1,r2)\n",
    "    else: \n",
    "        return (q1,q2) \n",
    "P = [(2,2),(3,2),(4,5),(6,8),(7,4),(10,3)]\n",
    "closest_points(P)"
   ]
  },
  {
   "cell_type": "code",
   "execution_count": null,
   "id": "a14cd0df",
   "metadata": {},
   "outputs": [],
   "source": []
  }
 ],
 "metadata": {
  "kernelspec": {
   "display_name": "Python 3 (ipykernel)",
   "language": "python",
   "name": "python3"
  },
  "language_info": {
   "codemirror_mode": {
    "name": "ipython",
    "version": 3
   },
   "file_extension": ".py",
   "mimetype": "text/x-python",
   "name": "python",
   "nbconvert_exporter": "python",
   "pygments_lexer": "ipython3",
   "version": "3.10.2"
  }
 },
 "nbformat": 4,
 "nbformat_minor": 5
}
