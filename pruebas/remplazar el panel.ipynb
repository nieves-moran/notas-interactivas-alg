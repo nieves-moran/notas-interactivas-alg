{
 "cells": [
  {
   "cell_type": "code",
   "execution_count": 2,
   "id": "e2c20ddd",
   "metadata": {},
   "outputs": [
    {
     "data": {
      "application/vnd.jupyter.widget-view+json": {
       "model_id": "664bade1a30742d898184154ad46ae7d",
       "version_major": 2,
       "version_minor": 0
      },
      "text/plain": [
       "VBox(children=(Button(description='boton 1', style=ButtonStyle()), Button(description='boton 2', style=ButtonS…"
      ]
     },
     "metadata": {},
     "output_type": "display_data"
    }
   ],
   "source": [
    "import numpy as np\n",
    "import math \n",
    "import matplotlib.pyplot as plt\n",
    "from matplotlib.table import table\n",
    "from matplotlib.transforms import Bbox\n",
    "from matplotlib.patches import Rectangle\n",
    "from matplotlib.patches import Circle\n",
    "from matplotlib.patches import Path\n",
    "from matplotlib.patches import PathPatch\n",
    "from matplotlib.widgets import TextBox\n",
    "from matplotlib.widgets import Button\n",
    "import ipywidgets as widgets \n",
    "from IPython.display import display, clear_output\n",
    "\n",
    "%matplotlib nbagg \n",
    "\n",
    "class layout: \n",
    "    box = None\n",
    "    \n",
    "    def __init__(self): \n",
    "        button1 = widgets.Button(description='boton 1')\n",
    "        button2 = widgets.Button(description='boton 2')\n",
    "        box = widgets.VBox([button1,button2])\n",
    "        self.box = box \n",
    "        display(self.box)\n",
    "        button1.on_click(self.replace_layout)\n",
    "    def replace_layout(self,event): \n",
    "        button3 = widgets.Button(description='boton 3')\n",
    "        self.box.children = [button3]\n",
    "        \n",
    "class cell:\n",
    "    def main(self): \n",
    "        #create a button     \n",
    "        l = layout()\n",
    "c = cell() \n",
    "c.main()"
   ]
  },
  {
   "cell_type": "code",
   "execution_count": null,
   "id": "8e31645e",
   "metadata": {},
   "outputs": [],
   "source": []
  }
 ],
 "metadata": {
  "kernelspec": {
   "display_name": "Python 3 (ipykernel)",
   "language": "python",
   "name": "python3"
  },
  "language_info": {
   "codemirror_mode": {
    "name": "ipython",
    "version": 3
   },
   "file_extension": ".py",
   "mimetype": "text/x-python",
   "name": "python",
   "nbconvert_exporter": "python",
   "pygments_lexer": "ipython3",
   "version": "3.10.2"
  }
 },
 "nbformat": 4,
 "nbformat_minor": 5
}
