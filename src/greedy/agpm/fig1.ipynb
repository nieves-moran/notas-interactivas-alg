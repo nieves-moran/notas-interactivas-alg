{
 "cells": [
  {
   "cell_type": "code",
   "execution_count": 43,
   "id": "bc576b1a",
   "metadata": {},
   "outputs": [
    {
     "name": "stdout",
     "output_type": "stream",
     "text": [
      "poner aristas\n"
     ]
    },
    {
     "data": {
      "image/png": "[encoded data removed]",
      "text/plain": [
       "<Figure size 432x288 with 1 Axes>"
      ]
     },
     "metadata": {
      "needs_background": "light"
     },
     "output_type": "display_data"
    }
   ],
   "source": [
    "from cmath import atan\n",
    "from glob import glob\n",
    "from matplotlib.patches import Circle\n",
    "from matplotlib.patches import Rectangle\n",
    "from matplotlib.patches import Path\n",
    "from matplotlib.patches import PathPatch\n",
    "from matplotlib.patches import Ellipse \n",
    "import matplotlib.pyplot as plt\n",
    "from IPython.display import display\n",
    "import ipywidgets as widgets\n",
    "from IPython.display import clear_output\n",
    "from matplotlib.colors import ListedColormap, LinearSegmentedColormap\n",
    "import random \n",
    "\n",
    "import math\n",
    "def inter_points(rad,p1,p2):\n",
    "    x1,y1 = p1\n",
    "    x2,y2 = p2 \n",
    "    phi = math.atan2(y2-y1, x2-x1)\n",
    "    x = x1 + rad * math.cos(phi)\n",
    "    y = y1 + rad * math.sin(phi)\n",
    "    return (x,y)\n",
    "def punto_medio(p1,p2,s,fra):\n",
    "    x1,y1 = p1\n",
    "    x2,y2 = p2 \n",
    "    dx = x1 - x2 \n",
    "    dy = y1 - y2 \n",
    "    ang = (math.pi/2 if dy > 0 else (3*math.pi)/2) if dx == 0 else math.atan(dy/dx)\n",
    "    ang = ang + 2* math.pi if ang < 0 else ang\n",
    "    x = math.sqrt((x1- x2)**2 + (y1 - y2)**2)*fra\n",
    "    y = s \n",
    "    xp = x*math.cos(ang) - y*math.sin(ang)\n",
    "    yp = x*math.sin(ang) + y*math.cos(ang)\n",
    "    ##llegué a la conclusión que tienes que trasladarlo a el que tiene la menor x \n",
    "    xp = xp + (x1 if x1 < x2 else x2) \n",
    "    yp = yp + (y1 if x1 < x2 else y2 )\n",
    "    return (xp,yp)\n",
    "class Fig1: \n",
    "    def poner_vertices(self): \n",
    "        self.vert = {1 : (0,0) , \n",
    "                     2 : (4,-2) , 3 :(4,2), \n",
    "                    4:(8,-3), 5:(8,0), 6:(8,3), \n",
    "                    7:(12,-3),8:(12,0),9:(12,3), \n",
    "                    10:(16,2),\n",
    "                    11:(20,0),12:(20,3),\n",
    "                    13:(24,2)}\n",
    "        anots = {6:\"v'\",9:\"w'\",5:\"v\",8:\"w\",7:\"h\"}\n",
    "        for i,(x,y) in self.vert.items(): \n",
    "            c =Circle((x,y),radius = 1,facecolor = 'white',edgecolor = 'black')\n",
    "            if i in anots: \n",
    "                self.ax.text(x,y,\"${}$\".format(anots[i]),va = 'center',ha='center')\n",
    "            self.ax.add_patch(c)\n",
    "    def poner_aristas(self): \n",
    "        ars = [(1,3),(1,2),(2,4),(3,5),(3,6),\n",
    "               (6,9),(5,8),(9,10),(8,10),\n",
    "               (10,12),(10,11),(11,13),(4,7)] \n",
    "        anots = {(6,9):\"e'\",(5,8):\"e\",(4,7):\"f\"}\n",
    "        punt = [(5,8),(4,7)]\n",
    "        for u,v in ars: \n",
    "            ux,uy = inter_points(1,self.vert[u],self.vert[v])\n",
    "            vx,vy = inter_points(1,self.vert[v],self.vert[u])\n",
    "            ls = \"-\"\n",
    "            if((u,v) in punt): \n",
    "                ls = \"--\"\n",
    "            p = PathPatch(Path([(ux,uy),(vx,vy)]),linestyle = ls)\n",
    "            if((u,v) in anots): \n",
    "                xm,ym = punto_medio(self.vert[u],self.vert[v],0.7,0.5)\n",
    "                self.ax.text(xm,ym,\"${}$\".format(anots[(u,v)]))\n",
    "            self.ax.add_patch(p)\n",
    "        print(\"poner aristas\")\n",
    "    def poner_conj_s(self):\n",
    "        e = Ellipse((4,0),width = 12 , height = 18,color = 'lightgray')\n",
    "        self.ax.add_patch(e)\n",
    "        self.ax.text(0,5,\"$S$\")\n",
    "    def __init__(self): \n",
    "        self.fig,self.ax = plt.subplots()\n",
    "        self.ax.set_aspect('equal', adjustable='box')\n",
    "        plt.axis(\"off\")\n",
    "        self.poner_conj_s() \n",
    "        self.poner_vertices() \n",
    "        self.poner_aristas() \n",
    "        self.ax.relim()\n",
    "        self.ax.autoscale_view()\n",
    "f = Fig1() "
   ]
  },
  {
   "cell_type": "code",
   "execution_count": null,
   "id": "3ca59eae",
   "metadata": {},
   "outputs": [],
   "source": []
  }
 ],
 "metadata": {
  "kernelspec": {
   "display_name": "Python 3 (ipykernel)",
   "language": "python",
   "name": "python3"
  },
  "language_info": {
   "codemirror_mode": {
    "name": "ipython",
    "version": 3
   },
   "file_extension": ".py",
   "mimetype": "text/x-python",
   "name": "python",
   "nbconvert_exporter": "python",
   "pygments_lexer": "ipython3",
   "version": "3.10.4"
  }
 },
 "nbformat": 4,
 "nbformat_minor": 5
}
