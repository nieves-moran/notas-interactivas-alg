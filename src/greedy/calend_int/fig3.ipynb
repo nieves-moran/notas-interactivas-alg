{
 "cells": [
  {
   "cell_type": "code",
   "execution_count": 35,
   "id": "05df745c",
   "metadata": {},
   "outputs": [
    {
     "data": {
      "image/png": "[encoded data removed]",
      "text/plain": [
       "<Figure size 432x288 with 1 Axes>"
      ]
     },
     "metadata": {
      "needs_background": "light"
     },
     "output_type": "display_data"
    }
   ],
   "source": [
    "from cmath import atan\n",
    "from glob import glob\n",
    "from sys import ps1\n",
    "from matplotlib.patches import Circle\n",
    "from matplotlib.patches import Rectangle\n",
    "from matplotlib.patches import Path\n",
    "from matplotlib.patches import PathPatch\n",
    "import matplotlib.pyplot as plt\n",
    "from IPython.display import display\n",
    "import ipywidgets as widgets\n",
    "from IPython.display import clear_output\n",
    "import random \n",
    "import math \n",
    "class Fig3(): \n",
    "     \n",
    "    def agregar_AO(self): \n",
    "        self.ax.text(0,0.5,\"$A$\",fontsize = 14)\n",
    "        self.ax.text(0,-2.5,\"$O$\",fontsize = 14)\n",
    "        r1 = Rectangle((1,0),width = 3,height = 1,facecolor = 'white',edgecolor = 'black') \n",
    "        r2 = Rectangle((2,-3),width = 4,height = 1,facecolor = 'white',edgecolor = 'black')\n",
    "        self.ax.add_patch(r1)\n",
    "        self.ax.add_patch(r2)\n",
    "        self.ax.text(4.5,0.5,\"$i_{{r-1}}$\",fontsize = 14)\n",
    "        self.ax.text(6.5,-2.5,\"$j_{{r-1}}$\",fontsize = 14)\n",
    "    def poner_lineas_sep(self): \n",
    "        l1 = PathPatch(Path([(0,-1),(9,-1)]), facecolor='none', edgecolor='black',linestyle = '--')\n",
    "        l2 = PathPatch(Path([(9,-4),(9,2)]), facecolor='none', edgecolor='black',linestyle = '--')\n",
    "        self.ax.add_patch(l1)\n",
    "        self.ax.add_patch(l2)\n",
    "    def poner_circulo(self): \n",
    "        c= Circle((13,-1),radius = 3,facecolor = 'white',edgecolor = 'black',linestyle = '--')\n",
    "        self.ax.add_patch(c)\n",
    "        r1 = Rectangle((12,-3),width = 1.5,height = 0.5,facecolor = 'white',edgecolor = 'black')\n",
    "        self.ax.add_patch(r1)\n",
    "        r1 = Rectangle((12,-2),width = 1.9,height = 0.5,facecolor = 'white',edgecolor = 'black') \n",
    "        self.ax.add_patch(r1)\n",
    "        r1 = Rectangle((12,-1),width = 1.1,height = 0.5,facecolor = 'white',edgecolor = 'black') \n",
    "        self.ax.add_patch(r1)\n",
    "        r1 = Rectangle((12,0),width = 2,height = 0.5,facecolor = 'white',edgecolor = 'black') \n",
    "        self.ax.add_patch(r1)\n",
    "        self.ax.text(16,1,\"$R$\",fontsize = 14)\n",
    "    def __init__(self): \n",
    "        self.fig,self.ax = plt.subplots() \n",
    "        plt.gca().set_aspect('equal', adjustable='box')\n",
    "        self.agregar_AO()  \n",
    "        self.poner_lineas_sep()\n",
    "        self.poner_circulo()\n",
    "        plt.axis('off')\n",
    "        self.ax.relim()\n",
    "        self.ax.autoscale_view() \n",
    "f = Fig3()"
   ]
  },
  {
   "cell_type": "code",
   "execution_count": null,
   "id": "c4a79d61",
   "metadata": {},
   "outputs": [],
   "source": []
  }
 ],
 "metadata": {
  "kernelspec": {
   "display_name": "Python 3 (ipykernel)",
   "language": "python",
   "name": "python3"
  },
  "language_info": {
   "codemirror_mode": {
    "name": "ipython",
    "version": 3
   },
   "file_extension": ".py",
   "mimetype": "text/x-python",
   "name": "python",
   "nbconvert_exporter": "python",
   "pygments_lexer": "ipython3",
   "version": "3.10.4"
  }
 },
 "nbformat": 4,
 "nbformat_minor": 5
}
