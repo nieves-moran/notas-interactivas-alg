{
 "cells": [
  {
   "cell_type": "code",
   "execution_count": 62,
   "id": "1fd2ad3c",
   "metadata": {
    "scrolled": false
   },
   "outputs": [
    {
     "data": {
      "image/png": "[encoded data removed]",
      "text/plain": [
       "<Figure size 432x288 with 1 Axes>"
      ]
     },
     "metadata": {},
     "output_type": "display_data"
    }
   ],
   "source": [
    "from cmath import atan\n",
    "from glob import glob\n",
    "from pydoc import visiblename\n",
    "from matplotlib.patches import Circle\n",
    "from matplotlib.patches import Rectangle\n",
    "from matplotlib.patches import Path\n",
    "from matplotlib.patches import PathPatch\n",
    "import matplotlib.pyplot as plt\n",
    "from IPython.display import display\n",
    "import ipywidgets as widgets\n",
    "from IPython.display import clear_output\n",
    "from matplotlib.colors import ListedColormap, LinearSegmentedColormap\n",
    "import random \n",
    "\n",
    "import math\n",
    "\n",
    "class Fig2: \n",
    "    def poner_rect(self): \n",
    "        self.rect3() \n",
    "        for (id,(x,y,w)) in self.rects.items(): \n",
    "            r = Rectangle((x,y),width= w,height = 1,facecolor = 'white',edgecolor = 'black') \n",
    "            self.ax.add_patch(r)\n",
    "        self.ax.autoscale_view()\n",
    "    def rect1(self):\n",
    "        self.rects = {0 : (-2,0,15), 1  : (0,2,2) , 2 : (3,2,2)  , 3 : (6,2,2), 4 :(9,2,2) }\n",
    "        self.anot = (\"a\",12,1.5)\n",
    "    def rect2(self):\n",
    "        self.rects = {0 : (0,3,6), 1  : (7,3,6) , 3 : (4.5,0,4) }\n",
    "        self.anot = (\"b\",14,2) \n",
    "    def rect3(self): \n",
    "        self.rects = {0 : (2.5,1,2), 1  : (10.5,1,2) , 2 : (2.5,3,2)  , 3 : (10.5,3,2), \n",
    "                    4 : (2.5,5,2), 5 : (6.5,5,2) , 6 : (10.5,5,2), \n",
    "                    7 : (0,7,3) , 8 :(4,7,3) , 9:(8,7,3) , 10 : (12,7,3)\n",
    "                     }\n",
    "        self.ax.text(7.5,4.5,\"(a)\",fontsize = 13,ha='center',va = 'center')\n",
    "        self.ax.text(5.5,6.5,\"(b)\",fontsize = 13,ha='center',va = 'center')\n",
    "        self.ax.text(9.5,6.5,\"(c)\",fontsize = 13,ha='center',va = 'center')\n",
    "\n",
    "    def config_img(self): \n",
    "        self.fig,self.ax = plt.subplots()   \n",
    "        plt.gca().set_aspect('equal', adjustable='box')\n",
    "        plt.tick_params(labelbottom = False,labelleft = False,width = 0 )\n",
    "        plt.axis(\"off\")\n",
    "    def __init__(self): \n",
    "        self.config_img() \n",
    "        self.poner_rect() \n",
    "f = Fig2() "
   ]
  },
  {
   "cell_type": "code",
   "execution_count": null,
   "id": "af2e6a94",
   "metadata": {},
   "outputs": [],
   "source": []
  }
 ],
 "metadata": {
  "kernelspec": {
   "display_name": "Python 3 (ipykernel)",
   "language": "python",
   "name": "python3"
  },
  "language_info": {
   "codemirror_mode": {
    "name": "ipython",
    "version": 3
   },
   "file_extension": ".py",
   "mimetype": "text/x-python",
   "name": "python",
   "nbconvert_exporter": "python",
   "pygments_lexer": "ipython3",
   "version": "3.10.4"
  }
 },
 "nbformat": 4,
 "nbformat_minor": 5
}
