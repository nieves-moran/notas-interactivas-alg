{
 "cells": [
  {
   "cell_type": "markdown",
   "id": "f3435454",
   "metadata": {},
   "source": [
    "<h1> Índice </h1> \n",
    "<h2> Algoritmos Voraces </h2> \n",
    "<ul> \n",
    "<li> \n",
    "    <a href=\"http://localhost:8888/notebooks/src/greedy/calend_int/calend_int_nota.ipynb\">Calendarización de intervalos</a> \n",
    "</li> \n",
    "<li> \n",
    "    <a href =\"http://localhost:8888/notebooks/src/greedy/dijkstra/dijkstra_note.ipynb\"> Caminos más cortos en una gráfica </a> \n",
    "</li> \n",
    "<li> \n",
    "    <a href =\"http://localhost:8888/notebooks/src/greedy/agpm/agpm_nota.ipynb\"> Árbol generador de peso mínimo </a> \n",
    "</li> \n",
    "    \n",
    "</ul> "
   ]
  },
  {
   "cell_type": "code",
   "execution_count": null,
   "id": "64d994d4",
   "metadata": {},
   "outputs": [],
   "source": []
  }
 ],
 "metadata": {
  "kernelspec": {
   "display_name": "Python 3 (ipykernel)",
   "language": "python",
   "name": "python3"
  },
  "language_info": {
   "codemirror_mode": {
    "name": "ipython",
    "version": 3
   },
   "file_extension": ".py",
   "mimetype": "text/x-python",
   "name": "python",
   "nbconvert_exporter": "python",
   "pygments_lexer": "ipython3",
   "version": "3.10.4"
  }
 },
 "nbformat": 4,
 "nbformat_minor": 5
}
