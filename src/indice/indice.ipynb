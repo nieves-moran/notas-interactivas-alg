{
 "cells": [
  {
   "cell_type": "markdown",
   "id": "f3435454",
   "metadata": {},
   "source": [
    "<h1> Índice </h1> \n",
    "<h2> Algoritmos Voraces </h2> \n",
    "<ul> \n",
    "<li> \n",
    "    <a href=\"/notebooks/src/greedy/calend_int/calend_int_nota.ipynb\">Calendarización de intervalos</a> \n",
    "</li> \n",
    "<li> \n",
    "<a href =\"/notebooks/src/greedy/calend_min_ret/calend_min_ret_nota.ipynb\"> Calendarización para minimizar el retraso</a> \n",
    "    </li> \n",
    "<li> \n",
    "    <a href =\"/notebooks/src/greedy/dijkstra/dijkstra_note.ipynb\"> Caminos más cortos en una gráfica </a> \n",
    "</li> \n",
    "<li> \n",
    "    <a href =\"/notebooks/src/greedy/agpm/agpm_nota.ipynb\"> Árbol generador de peso mínimo </a> \n",
    "</li> \n",
    "<li> \n",
    "      <a href =\"/notebooks/src/greedy/huffman/codigos-huffman.ipynb\"> Códigos de Huffman </a> \n",
    "    </li> \n",
    "</ul> "
   ]
  },
  {
   "cell_type": "markdown",
   "id": "b1cd26f9",
   "metadata": {},
   "source": [
    "<h2> Divide y vencerás </h2> \n",
    "<ul>\n",
    "<li> \n",
    "    <a href=\"/notebooks/src/divide_venceras/quicksort/quicksort_nota.ipynb\">Quicksort</a> \n",
    "</li> \n",
    "<li> \n",
    "    <a href=\"/notebooks/src/divide_venceras/maxsubsum/maxsubsum_nota.ipynb\">Subarreglo con suma máxima</a> \n",
    "</li> \n",
    "</ul> "
   ]
  },
  {
   "cell_type": "markdown",
   "id": "9e06138b",
   "metadata": {},
   "source": [
    "<h2> Temas adicionales </h2> \n",
    "<ul> \n",
    "    <li> \n",
    "           <a href =\"/notebooks/src/adicionales/segment_tree/segment_tree_nota.ipynb\"> Árbol de segmentos </a> \n",
    "    </li> \n",
    "      <li> \n",
    "           <a href =\"/notebooks/src/adicionales/trie/trie_nota.ipynb\"> Trie </a> \n",
    "    </li> \n",
    "</ul> "
   ]
  }
 ],
 "metadata": {
  "kernelspec": {
   "display_name": "Python 3 (ipykernel)",
   "language": "python",
   "name": "python3"
  },
  "language_info": {
   "codemirror_mode": {
    "name": "ipython",
    "version": 3
   },
   "file_extension": ".py",
   "mimetype": "text/x-python",
   "name": "python",
   "nbconvert_exporter": "python",
   "pygments_lexer": "ipython3",
   "version": "3.10.4"
  }
 },
 "nbformat": 4,
 "nbformat_minor": 5
}
