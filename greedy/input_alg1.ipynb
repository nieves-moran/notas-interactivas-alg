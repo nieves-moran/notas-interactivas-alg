{
 "cells": [
  {
   "cell_type": "code",
   "execution_count": 2,
   "id": "8cc1ac86",
   "metadata": {},
   "outputs": [
    {
     "data": {
      "application/vnd.jupyter.widget-view+json": {
       "model_id": "ada0d922c7b44be3b5f5a054b278ddf9",
       "version_major": 2,
       "version_minor": 0
      },
      "text/plain": [
       "VBox(children=(Text(value='', description='Intervalos:', placeholder=''), Button(description='Listo', style=Bu…"
      ]
     },
     "metadata": {},
     "output_type": "display_data"
    }
   ],
   "source": [
    "from IPython.display import display\n",
    "import ipywidgets as widgets\n",
    "from IPython.display import clear_output\n",
    "\n",
    "class input1: \n",
    "    def handler(self,event):\n",
    "        with self.out: \n",
    "            clear_output()\n",
    "            try:\n",
    "                self.valor = eval(self.text.value)\n",
    "                print(\"los valores están guardados\")\n",
    "                %run alg1.ipynb\n",
    "                self.text.close()\n",
    "                self.button.close()\n",
    "            except:\n",
    "                print(\"Los intervalos no tienen el formato correcto\")\n",
    "    def __init__(self):\n",
    "        self.valor = \"\"\n",
    "        self.button = widgets.Button(description='Listo')\n",
    "        self.out = widgets.Output()\n",
    "        # displaying button and its output together\n",
    "        self.button.on_click(self.handler)\n",
    "        self.text = widgets.Text(description='Intervalos:',disabled=False,value= \"\",placeholder='',)\n",
    "        self.box = widgets.VBox([self.text,self.button,self.out])\n",
    "        display(self.box)    \n",
    "\n",
    "inp1 = input1()"
   ]
  },
  {
   "cell_type": "code",
   "execution_count": null,
   "id": "16d5b8fa",
   "metadata": {},
   "outputs": [],
   "source": []
  }
 ],
 "metadata": {
  "kernelspec": {
   "display_name": "Python 3 (ipykernel)",
   "language": "python",
   "name": "python3"
  },
  "language_info": {
   "codemirror_mode": {
    "name": "ipython",
    "version": 3
   },
   "file_extension": ".py",
   "mimetype": "text/x-python",
   "name": "python",
   "nbconvert_exporter": "python",
   "pygments_lexer": "ipython3",
   "version": "3.10.2"
  }
 },
 "nbformat": 4,
 "nbformat_minor": 5
}
