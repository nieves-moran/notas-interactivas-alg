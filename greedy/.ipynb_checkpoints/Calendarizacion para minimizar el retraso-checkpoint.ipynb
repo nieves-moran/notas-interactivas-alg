{
 "cells": [
  {
   "cell_type": "markdown",
   "id": "279ae2be",
   "metadata": {},
   "source": [
    "<h1>Calendarización para minimizar el retraso </h1>"
   ]
  },
  {
   "cell_type": "markdown",
   "id": "c793f889",
   "metadata": {},
   "source": [
    "\n",
    "tenemos un simple resourse, un intervalo de tiempo y varias peticiones \n",
    "ahora las peticiones tienen un deadline. El deadline es di \n",
    "y requieren un tiempo ti nonoverlapping intervals \n",
    "el algoritmo debe determinar el timpo de start de los intervalos\n",
    "lateness la tardanza esta definida como fi - di tenemos que minimizar la maxima tardanza \n",
    "Ahora nota que la información es el tiempo el el deadline \n",
    "Una simple, los ordenamos por su deadline. \n",
    "Ahora se prueba esto\n",
    "Se van ordenando. "
   ]
  },
  {
   "cell_type": "markdown",
   "id": "0bf41e46",
   "metadata": {},
   "source": [
    "Esto va a ser el widget, nos van a dar una serie de tiempos y de deadlines \n",
    "van a aparecer digamos en orden y uno por uno vamos a ir poniendolos. y calculando el maximum lateness \n"
   ]
  },
  {
   "cell_type": "code",
   "execution_count": null,
   "id": "f1b828a1",
   "metadata": {},
   "outputs": [],
   "source": [
    "inversiones, decimos que no tiene una inversion si un trabajo i con deadline di esta antes de j y j tiene dj < di "
   ]
  },
  {
   "cell_type": "code",
   "execution_count": null,
   "id": "d2cd0830",
   "metadata": {},
   "outputs": [],
   "source": [
    "las calendarizaciones sin inversiones y sin idle time tienen el mismo maximo lateness "
   ]
  },
  {
   "cell_type": "code",
   "execution_count": null,
   "id": "4f3e63a1",
   "metadata": {},
   "outputs": [],
   "source": [
    "Existe una calendarizacion óptima que no tiene inversiones ni idle time\n",
    "Convertiremos poco a poco una calendarizacion optima a una calendarizacion sin inversiones \n",
    "Tenemos que si hay una inversion entonces hay un par de trabajos i y j , j after inmediatamente y tiene dj < di \n",
    "Supongamos que tienen una inversion entonces decrementaremos el numero de inversiones en O \n",
    "Ahora tenemos una calendarizacion con una inversion menos \n",
    "ahora lo dificiil es saber que esta inversion es óptima también"
   ]
  },
  {
   "cell_type": "markdown",
   "id": "5dec3b43",
   "metadata": {},
   "source": [
    "Ahora la prueba de esto.\n",
    "Tenemos que r es el request. \n",
    "y su lateness es l_r ahora L prima es el máximo de todos los l_r \n",
    "Ahora para el schedule sin la inversion vamos a tener a O barra \n",
    "Ahora todos los otros trabajos terminan en el mismo tiempo en el que terminaban en la calendarizacion anterior \n",
    "el trabajo j termina antes y por lo tanto no incrementa lateness del trabajo j ahora solo queda el trabajo i \n",
    "Hay una formula para su lateness esta formula es li = f(i) - di = f(j) - di\n",
    "Teniamos que di > dj en la nueva calendariación, luego. \n",
    "li = f(j) - di < f(j) - dj = l'j o sea l_i < l_j luego  como  L >= l_j > l_i barra entonces no incrementa "
   ]
  },
  {
   "cell_type": "code",
   "execution_count": null,
   "id": "188aa416",
   "metadata": {},
   "outputs": [],
   "source": [
    "un widget que calendarice en aleatorio, encuentre una inversion la desinvierta y se vea como disminuye el maximum lateness"
   ]
  }
 ],
 "metadata": {
  "kernelspec": {
   "display_name": "Python 3 (ipykernel)",
   "language": "python",
   "name": "python3"
  },
  "language_info": {
   "codemirror_mode": {
    "name": "ipython",
    "version": 3
   },
   "file_extension": ".py",
   "mimetype": "text/x-python",
   "name": "python",
   "nbconvert_exporter": "python",
   "pygments_lexer": "ipython3",
   "version": "3.10.2"
  }
 },
 "nbformat": 4,
 "nbformat_minor": 5
}
