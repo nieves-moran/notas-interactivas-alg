{
 "cells": [
  {
   "cell_type": "code",
   "execution_count": 1,
   "id": "bf0ff9d1",
   "metadata": {},
   "outputs": [
    {
     "ename": "NameError",
     "evalue": "name 'inp1' is not defined",
     "output_type": "error",
     "traceback": [
      "\u001b[1;31m---------------------------------------------------------------------------\u001b[0m",
      "\u001b[1;31mNameError\u001b[0m                                 Traceback (most recent call last)",
      "Input \u001b[1;32mIn [1]\u001b[0m, in \u001b[0;36m<module>\u001b[1;34m\u001b[0m\n\u001b[0;32m     67\u001b[0m             r\u001b[38;5;241m.\u001b[39mset(color \u001b[38;5;241m=\u001b[39m \u001b[38;5;124m'\u001b[39m\u001b[38;5;124mgreen\u001b[39m\u001b[38;5;124m'\u001b[39m); \n\u001b[0;32m     68\u001b[0m         \u001b[38;5;28mself\u001b[39m\u001b[38;5;241m.\u001b[39mj \u001b[38;5;241m=\u001b[39m \u001b[38;5;28mself\u001b[39m\u001b[38;5;241m.\u001b[39mj \u001b[38;5;241m+\u001b[39m \u001b[38;5;241m1\u001b[39m\n\u001b[1;32m---> 70\u001b[0m inp1_st \u001b[38;5;241m=\u001b[39m \u001b[43minp1\u001b[49m\u001b[38;5;241m.\u001b[39mvalor\n\u001b[0;32m     71\u001b[0m c \u001b[38;5;241m=\u001b[39m cell_4([(\u001b[38;5;241m1\u001b[39m,\u001b[38;5;241m11\u001b[39m),(\u001b[38;5;241m4\u001b[39m,\u001b[38;5;241m12\u001b[39m),(\u001b[38;5;241m6\u001b[39m,\u001b[38;5;241m9\u001b[39m),(\u001b[38;5;241m10\u001b[39m,\u001b[38;5;241m15\u001b[39m),(\u001b[38;5;241m13\u001b[39m,\u001b[38;5;241m16\u001b[39m),(\u001b[38;5;241m11\u001b[39m,\u001b[38;5;241m23\u001b[39m),(\u001b[38;5;241m16\u001b[39m,\u001b[38;5;241m19\u001b[39m),(\u001b[38;5;241m22\u001b[39m,\u001b[38;5;241m25\u001b[39m)]) \n\u001b[0;32m     72\u001b[0m c\u001b[38;5;241m.\u001b[39mmain()\n",
      "\u001b[1;31mNameError\u001b[0m: name 'inp1' is not defined"
     ]
    }
   ],
   "source": [
    "import ipywidgets as widgets \n",
    "import matplotlib.pyplot as plt\n",
    "import numpy as np\n",
    "from matplotlib.patches import Rectangle\n",
    "from IPython.display import display\n",
    "class cell_4:\n",
    "    def __init__(self,rangos):\n",
    "        #sacar el maximo \n",
    "        maxim_y = float('-inf')\n",
    "        for (x,y) in rangos:\n",
    "            maxim_y = max(maxim_y,y)\n",
    "        ##ordenalos \n",
    "        def takeSecond(elem):\n",
    "            return elem[1]\n",
    "        rangos.sort(key=takeSecond)\n",
    "        self.maxim_y = maxim_y\n",
    "        self.rangos = rangos\n",
    "        self.rangs = []\n",
    "        self.j = 0\n",
    "        self.ax = None\n",
    "        self.prev_line = None\n",
    "    def main(self):\n",
    "        fig, self.ax = plt.subplots()\n",
    "\n",
    "\n",
    "        #create simple line plot\n",
    "        plt.xticks(range(1,self.maxim_y+5))\n",
    "        plt.yticks(range(1,len(self.rangos)*2 + 2))\n",
    "        #display plot\n",
    "        plt.gca().set_aspect('equal', adjustable='box')\n",
    "        \n",
    "        #add rectangle to plot\n",
    "        i = 1\n",
    "        for (x,y) in self.rangos:\n",
    "            r = Rectangle((x, i), y-x, 1)\n",
    "            self.rangs.append(r)\n",
    "            self.ax.add_patch(r)\n",
    "            i = i + 2\n",
    "\n",
    "        plt.show()\n",
    "        self.button_config()\n",
    "        \n",
    "    def button_config(self): \n",
    "        button = widgets.Button(description='Siguiente')\n",
    "        out = widgets.Output()\n",
    "        button.on_click(self.on_button_clicked)\n",
    "        # displaying button and its output together\n",
    "        box = widgets.VBox([button,out])\n",
    "        display(box)\n",
    "    def on_button_clicked(self,_):\n",
    "        if(self.j == len(self.rangs)): \n",
    "            return\n",
    "        r = self.rangs[self.j]\n",
    "        #si el intervalo esta entre la linea pintalo de rojo \n",
    "        if(self.prev_line != None and \n",
    "           r.get_x() <= self.prev_line.get_xdata()[0]  and \n",
    "           self.prev_line.get_xdata()[0] <= r.get_x() + r.get_width()): \n",
    "            r.set(color = 'red')\n",
    "        else:\n",
    "            #quita la linea \n",
    "            if(self.prev_line != None): \n",
    "                self.prev_line.set(visible = False)\n",
    "            #pon la nueva linea \n",
    "            line = self.ax.axvline(r.get_x() + r.get_width())\n",
    "            self.prev_line = line; \n",
    "\n",
    "            r.set(color = 'green'); \n",
    "        self.j = self.j + 1\n",
    " \n",
    "inp1_st = inp1.valor\n",
    "c = cell_4(inp1_st) \n",
    "c.main()\n",
    "        "
   ]
  },
  {
   "cell_type": "code",
   "execution_count": null,
   "id": "2d70d0db",
   "metadata": {},
   "outputs": [],
   "source": []
  }
 ],
 "metadata": {
  "kernelspec": {
   "display_name": "Python 3 (ipykernel)",
   "language": "python",
   "name": "python3"
  },
  "language_info": {
   "codemirror_mode": {
    "name": "ipython",
    "version": 3
   },
   "file_extension": ".py",
   "mimetype": "text/x-python",
   "name": "python",
   "nbconvert_exporter": "python",
   "pygments_lexer": "ipython3",
   "version": "3.10.2"
  }
 },
 "nbformat": 4,
 "nbformat_minor": 5
}
