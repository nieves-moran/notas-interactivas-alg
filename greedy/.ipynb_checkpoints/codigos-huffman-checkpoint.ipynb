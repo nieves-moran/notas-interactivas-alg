{
 "cells": [
  {
   "cell_type": "markdown",
   "id": "2069dd30",
   "metadata": {},
   "source": [
    "<h1> Códigos de Huffman </h1> "
   ]
  },
  {
   "cell_type": "code",
   "execution_count": 1,
   "id": "7d58681f",
   "metadata": {},
   "outputs": [
    {
     "ename": "SyntaxError",
     "evalue": "invalid syntax (2468198249.py, line 1)",
     "output_type": "error",
     "traceback": [
      "\u001b[1;36m  Input \u001b[1;32mIn [1]\u001b[1;36m\u001b[0m\n\u001b[1;33m    es una pregunta de el area de compresión de datos\u001b[0m\n\u001b[1;37m       ^\u001b[0m\n\u001b[1;31mSyntaxError\u001b[0m\u001b[1;31m:\u001b[0m invalid syntax\n"
     ]
    }
   ],
   "source": [
    "es una pregunta de el area de compresión de datos \n",
    "Codificar simbolos usando bits \n",
    "La forma más simple es usando un número fijo de bits y que cada simbolo tenga una combinacion distinta \n",
    "necesitamos 5 bits \n",
    "A las menos frecuentes las mapeamos a con menos bits \n",
    "es un desperdicio \n",
    "reducir el promedio de bits por letra es el problema fundamental de la compresion de datos \n",
    "prefix code y ambiguedad \n",
    "existe un par de letras tal que la codificacion de una es prefijo de la codificación de otra \n",
    "Como de decodifica \n",
    "Para eliminar la ambiguedad tenemos que crear un codigo de manera que ninguna codificación de una letra es \n",
    "prefijo de otra y a esto se le llama código prefijo. \n",
    "optimal prefix codes \n",
    "Ahora se va a definir el tamaño de la codificación \n",
    "Hay una formula para describirlo \n",
    "average per letter \n",
    "dos ejemplos de el promedio por letra \n",
    "\n"
   ]
  },
  {
   "cell_type": "code",
   "execution_count": null,
   "id": "d0fc7bf6",
   "metadata": {},
   "outputs": [],
   "source": [
    "Ahora el que lo minimiza se le llama optimo \n",
    "Una forma de representar el mapeo con un árbol \n",
    "El número de hojas es el número de elementos en el alfabeto \n",
    "Para cada letra seguimos el camino de la raíz a las hojas, si va a la izquierda es un 0, si va a \n",
    "la derecha es un 1 \n",
    "El árbol es un árbol binario \n",
    "Ahora, se demuestra que es un código prefijo "
   ]
  },
  {
   "cell_type": "code",
   "execution_count": null,
   "id": "58df4b37",
   "metadata": {},
   "outputs": [],
   "source": [
    "Construccion de un árbol dado un código prefijo. \n",
    "Las que empiezan con 0 estan en el lado izquierdo, las que empiezan con 1 están en el lado derecho "
   ]
  },
  {
   "cell_type": "code",
   "execution_count": null,
   "id": "08fafd39",
   "metadata": {},
   "outputs": [],
   "source": [
    "Estamos buscando entonces el árbol etiquetado minimice el promedio de la profundidad de las hojas. \n",
    "El árbol primero está lleno \n",
    "Tenemos otro teorema, tal teorema relaciona depth(u) < depth(v) , u -> y , v -> z entonces fy >= fz "
   ]
  },
  {
   "cell_type": "code",
   "execution_count": null,
   "id": "644f8e4b",
   "metadata": {},
   "outputs": [],
   "source": [
    "hay una códificación tal que las dos letras con la menor frecuencia son hermanos en el árbol. Esto porque ya habíamos dicho \n",
    "que la códificación óptima daba un árbol lleno. \n",
    "El padre actua como una meta letra que tiene como frecuencia la suma de las frecuencias de los hijos. \n",
    "Y se obtiene una nuevo alfabeto con una letra menos \n",
    "Ya tenemos el algoritmo. \n",
    "\n"
   ]
  },
  {
   "cell_type": "code",
   "execution_count": null,
   "id": "9772549c",
   "metadata": {},
   "outputs": [],
   "source": [
    "Aquí metes el widget con el algoritmo. \n",
    "te pide una cadena \n",
    "saca las frecuencias \n",
    "construye el algoritmo paso por paso \n",
    "para cada letra saca el la codificacion\n",
    "codifica el mensaje. "
   ]
  },
  {
   "cell_type": "code",
   "execution_count": null,
   "id": "a56c29a5",
   "metadata": {},
   "outputs": [],
   "source": [
    "Son dos pruebas \n",
    "abl(tp) = abl(t) - fw donde w es el nuevo padre "
   ]
  },
  {
   "cell_type": "code",
   "execution_count": 2,
   "id": "48ea668b",
   "metadata": {},
   "outputs": [
    {
     "data": {
      "text/plain": [
       "{'tags': ['hide_input']}"
      ]
     },
     "execution_count": 2,
     "metadata": {},
     "output_type": "execute_result"
    }
   ],
   "source": [
    "{\n",
    "    \"tags\": [\n",
    "        \"hide_input\",\n",
    "    ]\n",
    "}"
   ]
  },
  {
   "cell_type": "code",
   "execution_count": null,
   "id": "733605d0",
   "metadata": {},
   "outputs": [],
   "source": []
  }
 ],
 "metadata": {
  "kernelspec": {
   "display_name": "Python 3 (ipykernel)",
   "language": "python",
   "name": "python3"
  },
  "language_info": {
   "codemirror_mode": {
    "name": "ipython",
    "version": 3
   },
   "file_extension": ".py",
   "mimetype": "text/x-python",
   "name": "python",
   "nbconvert_exporter": "python",
   "pygments_lexer": "ipython3",
   "version": "3.10.2"
  }
 },
 "nbformat": 4,
 "nbformat_minor": 5
}
