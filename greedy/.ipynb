import ipywidgets as widgets 
import matplotlib.pyplot as plt
import numpy as np
from matplotlib.patches import Rectangle
from IPython.display import display
class cell_4:
    def __init__(self,rangos):
        #sacar el maximo 
        maxim_y = float('-inf')
        for (x,y) in rangos:
            maxim_y = max(maxim_y,y)
        ##ordenalos 
        def takeSecond(elem):
            return elem[1]
        rangos.sort(key=takeSecond)
        self.maxim_y = maxim_y
        self.rangos = rangos
        self.rangs = []
        self.j = 0
        self.ax = None
        self.prev_line = None
    def main(self):
        fig, self.ax = plt.subplots()


        #create simple line plot
        plt.xticks(range(1,self.maxim_y+5))
        plt.yticks(range(1,len(self.rangos)*2 + 2))
        #display plot
        plt.gca().set_aspect('equal', adjustable='box')
        
        #add rectangle to plot
        i = 1
        for (x,y) in self.rangos:
            r = Rectangle((x, i), y-x, 1)
            self.rangs.append(r)
            self.ax.add_patch(r)
            i = i + 2

        plt.show()
        self.button_config()
        
    def button_config(self): 
        button = widgets.Button(description='Siguiente')
        out = widgets.Output()
        button.on_click(self.on_button_clicked)
        # displaying button and its output together
        box = widgets.VBox([button,out])
        display(box)
    def on_button_clicked(self,_):
        print("hola")
        if(self.j == len(self.rangs)): 
            return
        r = self.rangs[self.j]
        #si el intervalo esta entre la linea pintalo de rojo 
        if(self.prev_line != None and 
           r.get_x() <= self.prev_line.get_xdata()[0]  and 
           self.prev_line.get_xdata()[0] <= r.get_x() + r.get_width()): 
            r.set(color = 'red')
        else:
            #quita la linea 
            if(self.prev_line != None): 
                self.prev_line.set(visible = False)
            #pon la nueva linea 
            line = self.ax.axvline(r.get_x() + r.get_width())
            self.prev_line = line; 

            r.set(color = 'green'); 
        self.j = self.j + 1
        
c = cell_4([(1,11),(4,12),(6,9),(10,15),(13,16),(11,23),(16,19),(22,25)]) 
c.main()
        