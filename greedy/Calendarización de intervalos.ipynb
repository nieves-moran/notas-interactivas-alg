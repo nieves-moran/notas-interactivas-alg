{
 "cells": [
  {
   "cell_type": "markdown",
   "id": "c9bf7d95",
   "metadata": {},
   "source": [
    "<h1>Calendarización de intervalos</h1>\n",
    "El problema es el siguiente: Tenemos un conjunto de peticiones, cada una se corresponde con un intervalo\n",
    "que comienza en $s_{i}$ y finaliza en $f_{i}$. Decimos que una conjunto es compatible ningún par de peticiones se traslapan en el tiempo. El objetivo es obtener el conjunto compatible más grande. A tal conjunto se le llamará optimo. "
   ]
  },
  {
   "attachments": {},
   "cell_type": "markdown",
   "id": "a24498e3",
   "metadata": {},
   "source": [
    "<h2>Diseño del algoritmo greedy</h2>\n",
    "En un algoritmo greedy tenemos que crear una regla que elija la primera peticion y luego \n",
    "eliminamos las peticiones que no son compatibles, continuamos así hasta que no haya más peticiones \n"
   ]
  },
  {
   "cell_type": "code",
   "execution_count": 3,
   "id": "58050714",
   "metadata": {},
   "outputs": [
    {
     "data": {
      "application/vnd.jupyter.widget-view+json": {
       "model_id": "49f49a1cf4a347f7803e5a9d675d1f3e",
       "version_major": 2,
       "version_minor": 0
      },
      "text/plain": [
       "VBox(children=(Text(value='', description='Intervalos:', placeholder=''), Button(description='Listo', style=Bu…"
      ]
     },
     "metadata": {},
     "output_type": "display_data"
    }
   ],
   "source": [
    "%matplotlib nbagg\n",
    "%run input_alg1.ipynb"
   ]
  },
  {
   "cell_type": "markdown",
   "id": "7feed62b",
   "metadata": {},
   "source": [
    "A es un conjunto de peticiones compatibles "
   ]
  },
  {
   "cell_type": "markdown",
   "id": "d3e0d935",
   "metadata": {},
   "source": [
    "Sea O un conjunto optimo \n",
    "Sea A el conjunto que regresa el algoritmo\n",
    "Los índices i son del conjunto A, los índices j son del conjunto O. k es del conjunto A y m es del conjunto O. \n",
    "Para todos los índices r <= k tenemos que f(ir) <= f(jr)\n",
    "Esto se prueba con inducción\n",
    "Sea r > 1 supongamos que es verdadero para r -1 tenemos que f(i_r - 1) <= f(j_r - 1)\n",
    "Tenemso que O son compatibles entonces f(j r - 1) <= s(j_r) y entonces tenemos que f(i_r -1) <= s(j_r). \n",
    "Entonces j_r esta en conjunto de disponibles. Escoge al que tiene el menor tiempo de finalización y por lo tanto f(i_r) <= f(j_r) el que el algoritmo escoge es menor ya que j_r esta entre los que se pueden escoger "
   ]
  },
  {
   "cell_type": "markdown",
   "id": "0a9003e8",
   "metadata": {},
   "source": [
    "El algoritmo regresa un conjunto optimo A"
   ]
  },
  {
   "cell_type": "code",
   "execution_count": null,
   "id": "ac4a9e86",
   "metadata": {},
   "outputs": [],
   "source": []
  }
 ],
 "metadata": {
  "kernelspec": {
   "display_name": "Python 3 (ipykernel)",
   "language": "python",
   "name": "python3"
  },
  "language_info": {
   "codemirror_mode": {
    "name": "ipython",
    "version": 3
   },
   "file_extension": ".py",
   "mimetype": "text/x-python",
   "name": "python",
   "nbconvert_exporter": "python",
   "pygments_lexer": "ipython3",
   "version": "3.10.2"
  }
 },
 "nbformat": 4,
 "nbformat_minor": 5
}
