{
 "cells": [
  {
   "cell_type": "markdown",
   "id": "c9bf7d95",
   "metadata": {},
   "source": [
    "<h1>Diseñar el algoritmo greedy</h1>\n",
    "El problema es el siguiente. Tienes requests que tienen inicio $s_{i}$ y finalización $f_{i}$\n",
    "Un conjunto compatible es aquel que no se traslapa. En el cual ninguno de los intervalos se traslapa \n",
    "tenemos que obtener el máximo conjunto compatible. \n",
    "Se pueden usar muchas reglas \n",
    "algunas de las cuales son estas \n",
    "una regla que si funciona es la siguiente: \n",
    "\n"
   ]
  },
  {
   "cell_type": "code",
   "execution_count": 72,
   "id": "d89c8ddd",
   "metadata": {},
   "outputs": [
    {
     "data": {
      "application/vnd.jupyter.widget-view+json": {
       "model_id": "ad68ec3550cf4d2b98ea415cd35fcaf7",
       "version_major": 2,
       "version_minor": 0
      },
      "text/plain": [
       "VBox(children=(Text(value='', description='Intervalos:', placeholder=''), Button(description='Listo', style=Bu…"
      ]
     },
     "metadata": {},
     "output_type": "display_data"
    }
   ],
   "source": [
    "%run input_alg1.ipynb"
   ]
  },
  {
   "cell_type": "code",
   "execution_count": null,
   "id": "20384774",
   "metadata": {},
   "outputs": [],
   "source": []
  },
  {
   "cell_type": "code",
   "execution_count": null,
   "id": "1f7255ca",
   "metadata": {},
   "outputs": [],
   "source": []
  }
 ],
 "metadata": {
  "kernelspec": {
   "display_name": "Python 3 (ipykernel)",
   "language": "python",
   "name": "python3"
  },
  "language_info": {
   "codemirror_mode": {
    "name": "ipython",
    "version": 3
   },
   "file_extension": ".py",
   "mimetype": "text/x-python",
   "name": "python",
   "nbconvert_exporter": "python",
   "pygments_lexer": "ipython3",
   "version": "3.10.2"
  }
 },
 "nbformat": 4,
 "nbformat_minor": 5
}
