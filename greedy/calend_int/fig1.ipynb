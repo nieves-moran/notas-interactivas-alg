{
 "cells": [
  {
   "cell_type": "code",
   "execution_count": 30,
   "id": "50181fb9",
   "metadata": {},
   "outputs": [
    {
     "data": {
      "image/png": "[encoded data removed]",
      "text/plain": [
       "<Figure size 432x288 with 1 Axes>"
      ]
     },
     "metadata": {},
     "output_type": "display_data"
    }
   ],
   "source": [
    "from cmath import atan\n",
    "from glob import glob\n",
    "from pydoc import visiblename\n",
    "from matplotlib.patches import Circle\n",
    "from matplotlib.patches import Rectangle\n",
    "from matplotlib.patches import Path\n",
    "from matplotlib.patches import PathPatch\n",
    "import matplotlib.pyplot as plt\n",
    "from IPython.display import display\n",
    "import ipywidgets as widgets\n",
    "from IPython.display import clear_output\n",
    "from matplotlib.colors import ListedColormap, LinearSegmentedColormap\n",
    "import random \n",
    "\n",
    "import math\n",
    "\n",
    "class Fig1: \n",
    "    def poner_rect(self): \n",
    "        self.rects = {0 : (0,0), 1  : (1.5,-2) , 2 : (8,0)  , 3 : (12,-2) }\n",
    "        for (id,(x,y)) in self.rects.items(): \n",
    "            r = Rectangle((x,y),width= 3,height = 1,facecolor = 'white',edgecolor = 'black') \n",
    "            self.ax.add_patch(r)\n",
    "        #self.ax.relim()\n",
    "        #self.ax.autoscale_view()\n",
    "    def config_img(self): \n",
    "        self.fig,self.ax = plt.subplots()   \n",
    "        plt.gca().set_aspect('equal', adjustable='box')\n",
    "        self.ax.set_xlim(-2,17)\n",
    "        self.ax.set_ylim(-5,5)\n",
    "        plt.tick_params(labelbottom = False,labelleft = False,width = 0 )\n",
    "    def poner_linea(self): \n",
    "        plt.axvline(6,-3,10,color = 'black')\n",
    "        plt.axvline(1.5,-3,10,linestyle = '--',color = 'black')\n",
    "    def poner_anotaciones(self): \n",
    "        for i,(x,y) in self.rects.items(): \n",
    "            self.ax.text(x + 3.5 ,y + 0.5,\"$i_{}$\".format(i % 2 ),va ='center',ha ='center',fontsize = 15)\n",
    "            \n",
    "    def __init__(self): \n",
    "        self.config_img() \n",
    "        self.poner_rect() \n",
    "        self.poner_linea() \n",
    "        self.poner_anotaciones()\n",
    "f = Fig1() "
   ]
  },
  {
   "cell_type": "code",
   "execution_count": null,
   "id": "ff1a2502",
   "metadata": {},
   "outputs": [],
   "source": []
  }
 ],
 "metadata": {
  "kernelspec": {
   "display_name": "Python 3 (ipykernel)",
   "language": "python",
   "name": "python3"
  },
  "language_info": {
   "codemirror_mode": {
    "name": "ipython",
    "version": 3
   },
   "file_extension": ".py",
   "mimetype": "text/x-python",
   "name": "python",
   "nbconvert_exporter": "python",
   "pygments_lexer": "ipython3",
   "version": "3.10.4"
  }
 },
 "nbformat": 4,
 "nbformat_minor": 5
}
